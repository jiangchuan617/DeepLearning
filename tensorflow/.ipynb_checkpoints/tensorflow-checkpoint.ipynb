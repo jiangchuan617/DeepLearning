{
 "cells": [
  {
   "cell_type": "code",
   "execution_count": 3,
   "metadata": {},
   "outputs": [
    {
     "data": {
      "text/plain": [
       "array([3, 5], dtype=int32)"
      ]
     },
     "execution_count": 3,
     "metadata": {},
     "output_type": "execute_result"
    }
   ],
   "source": [
    "import tensorflow as tf\n",
    "a=tf.constant([1,2],name='a')\n",
    "b=tf.constant([2,3],name='b')\n",
    "result=a+b\n",
    "sess=tf.Session()\n",
    "sess.run(result)"
   ]
  },
  {
   "cell_type": "code",
   "execution_count": 7,
   "metadata": {},
   "outputs": [
    {
     "name": "stdout",
     "output_type": "stream",
     "text": [
      "0 [1.0661448] [0.88034767]\n",
      "20 [0.55999] [0.9127766]\n",
      "40 [0.44540027] [0.97524863]\n",
      "60 [0.41288322] [0.9929763]\n",
      "80 [0.40365583] [0.99800694]\n",
      "100 [0.40103742] [0.9994344]\n",
      "120 [0.40029436] [0.99983954]\n",
      "140 [0.40008354] [0.99995446]\n",
      "160 [0.4000237] [0.99998707]\n",
      "180 [0.40000677] [0.9999963]\n",
      "200 [0.40000194] [0.9999989]\n"
     ]
    }
   ],
   "source": [
    "import tensorflow as tf \n",
    "import numpy as np \n",
    "\n",
    "#create data\n",
    "x_data = np.random.rand(100).astype(np.float64)\n",
    "y_data = x_data*0.4+1\n",
    "#create model\n",
    "Weights=tf.Variable(tf.random_uniform([1],-1,1))\n",
    "biases=tf.Variable(tf.zeros([1]))\n",
    "y=Weights*x_data+biases\n",
    "#error\n",
    "loss=tf.reduce_mean(tf.square(y-y_data))\n",
    "\n",
    "optimizer=tf.train.GradientDescentOptimizer(0.5)\n",
    "train = optimizer.minimize(loss)\n",
    "\n",
    "init = tf.global_variables_initializer()\n",
    "\n",
    "with tf.Session() as sess:\n",
    "    sess.run(init)\n",
    "    for step in range(201):\n",
    "        sess.run(train)\n",
    "        if step%20==0:\n",
    "            print(step, sess.run(Weights), sess.run(biases))"
   ]
  },
  {
   "cell_type": "code",
   "execution_count": 10,
   "metadata": {},
   "outputs": [
    {
     "name": "stdout",
     "output_type": "stream",
     "text": [
      "(2, 1)\n",
      "[[12]]\n"
     ]
    }
   ],
   "source": [
    "import tensorflow as tf \n",
    "import numpy as np \n",
    "matrix1=tf.constant([[3,3]])\n",
    "matrix2=tf.constant([[2],\n",
    "                    [2]])\n",
    "#print(matrix2.shape)\n",
    "product=tf.matmul(matrix1,matrix2)\n",
    "with tf.Session() as sess:\n",
    "    result=sess.run(product)\n",
    "    print(result)"
   ]
  },
  {
   "cell_type": "code",
   "execution_count": 14,
   "metadata": {},
   "outputs": [
    {
     "name": "stdout",
     "output_type": "stream",
     "text": [
      "counter_3:0\n",
      "<tf.Variable 'counter_3:0' shape=() dtype=int32_ref>\n",
      "1\n",
      "<tf.Variable 'counter_3:0' shape=() dtype=int32_ref>\n",
      "2\n",
      "<tf.Variable 'counter_3:0' shape=() dtype=int32_ref>\n",
      "3\n"
     ]
    }
   ],
   "source": [
    "import tensorflow as tf\n",
    "state=tf.Variable(0,name='counter')#初始值0\n",
    "print(state.name)\n",
    "one=tf.constant(1)\n",
    "new_value = tf.add(state,one)\n",
    "update=tf.assign(state,new_value)\n",
    "#init\n",
    "init=tf.global_variables_initializer()\n",
    "with tf.Session() as sess:\n",
    "    sess.run(init)\n",
    "    for i in range(3):\n",
    "        sess.run(update)\n",
    "        #print(state)\n",
    "        print(sess.run(state))"
   ]
  },
  {
   "cell_type": "code",
   "execution_count": 19,
   "metadata": {},
   "outputs": [
    {
     "name": "stdout",
     "output_type": "stream",
     "text": [
      "[14.]\n"
     ]
    }
   ],
   "source": [
    "import tensorflow as tf\n",
    "input1=tf.placeholder(tf.float32)\n",
    "input2=tf.placeholder(tf.float32)\n",
    "output=tf.multiply(input1,input2)\n",
    "with tf.Session() as sess:\n",
    "    print(sess.run(output,feed_dict={input1:[7.],input2:[2]}))"
   ]
  },
  {
   "cell_type": "code",
   "execution_count": null,
   "metadata": {},
   "outputs": [],
   "source": [
    "import tensorflow as tf\n",
    "def add_layer(inputs,in_size,out_size,activation_function=None):\n",
    "    Weights=tf.Variable(tf.random_normal([in_size,out_size]))\n",
    "    biases=tf.Variable(tf.zeros(1,out_size)+0.1)\n",
    "    Wx_plus_b=tf.matmul(inputs,Weights)+biases\n",
    "    if activation_function=None:\n",
    "        outputs=Wx_plus_b\n",
    "    else:\n",
    "        outputs=activation_function(Wx_plus_b)\n",
    "        return outputs\n",
    "            "
   ]
  },
  {
   "cell_type": "code",
   "execution_count": null,
   "metadata": {},
   "outputs": [],
   "source": []
  }
 ],
 "metadata": {
  "kernelspec": {
   "display_name": "Python 3",
   "language": "python",
   "name": "python3"
  },
  "language_info": {
   "codemirror_mode": {
    "name": "ipython",
    "version": 3
   },
   "file_extension": ".py",
   "mimetype": "text/x-python",
   "name": "python",
   "nbconvert_exporter": "python",
   "pygments_lexer": "ipython3",
   "version": "3.6.2"
  }
 },
 "nbformat": 4,
 "nbformat_minor": 2
}
