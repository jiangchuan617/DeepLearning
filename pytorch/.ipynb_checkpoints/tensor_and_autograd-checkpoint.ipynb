{
 "cells": [
  {
   "cell_type": "code",
   "execution_count": 15,
   "metadata": {},
   "outputs": [],
   "source": [
    "from __future__ import print_function\n",
    "import torch \n"
   ]
  },
  {
   "cell_type": "code",
   "execution_count": 17,
   "metadata": {},
   "outputs": [
    {
     "name": "stdout",
     "output_type": "stream",
     "text": [
      "tensor([[ 1,  2,  3],\n",
      "        [ 4,  5,  6]])\n",
      "[[1, 2, 3], [4, 5, 6]]\n"
     ]
    }
   ],
   "source": [
    "# a = torch.tensor(2,3)\n",
    "# 创建 tensor\n",
    "# 指定形状\n",
    "\n",
    "# 用list数据创建tensor\n",
    "b = t.tensor([[1,2,3],[4,5,6]])\n",
    "print(b)\n",
    "# 把tensor转成list\n",
    "b = b.tolist()\n",
    "print(b)"
   ]
  },
  {
   "cell_type": "code",
   "execution_count": 27,
   "metadata": {},
   "outputs": [
    {
     "name": "stdout",
     "output_type": "stream",
     "text": [
      "torch.Size([2, 3])\n",
      "6\n"
     ]
    }
   ],
   "source": [
    "b = t.tensor([[1,2,3],[4,5,6]])\n",
    "b_size = b.size()\n",
    "print(b_size)\n",
    "print(b.numel())"
   ]
  },
  {
   "cell_type": "code",
   "execution_count": 35,
   "metadata": {},
   "outputs": [
    {
     "name": "stdout",
     "output_type": "stream",
     "text": [
      "torch.Size([2, 3])\n"
     ]
    }
   ],
   "source": [
    "# 创建一个和b.size()一样的tensor\n",
    "c = t.Tensor(b_size)\n",
    "print(c.size())"
   ]
  },
  {
   "cell_type": "code",
   "execution_count": 44,
   "metadata": {},
   "outputs": [
    {
     "name": "stdout",
     "output_type": "stream",
     "text": [
      "tensor([[ 1.,  1.,  1.],\n",
      "        [ 1.,  1.,  1.]])\n",
      "tensor([[ 0.,  0.,  0.],\n",
      "        [ 0.,  0.,  0.]])\n",
      "tensor([ 1.,  3.,  5.])\n",
      "tensor([  1.0000,   5.5000,  10.0000])\n",
      "tensor([[ 1.0364,  0.1609, -0.7028],\n",
      "        [ 0.1396,  0.1974, -1.3699]])\n",
      "tensor([ 0,  3,  2,  4,  1])\n"
     ]
    }
   ],
   "source": [
    "print(t.ones(2,3))\n",
    "print(t.zeros(2,3))\n",
    "print(t.arange(1,6,2))\n",
    "print(t.linspace(1,10,3))\n",
    "print(t.randn(2,3))\n",
    "print(t.randperm(5))"
   ]
  },
  {
   "cell_type": "code",
   "execution_count": 47,
   "metadata": {},
   "outputs": [
    {
     "data": {
      "text/plain": [
       "tensor([[ 1.,  0.,  0.],\n",
       "        [ 0.,  1.,  0.]])"
      ]
     },
     "execution_count": 47,
     "metadata": {},
     "output_type": "execute_result"
    }
   ],
   "source": [
    "t.eye(3)\n",
    "# 不要求行列一致\n",
    "t.eye(2,3)"
   ]
  },
  {
   "cell_type": "code",
   "execution_count": null,
   "metadata": {},
   "outputs": [],
   "source": []
  }
 ],
 "metadata": {
  "kernelspec": {
   "display_name": "Python 3",
   "language": "python",
   "name": "python3"
  },
  "language_info": {
   "codemirror_mode": {
    "name": "ipython",
    "version": 3
   },
   "file_extension": ".py",
   "mimetype": "text/x-python",
   "name": "python",
   "nbconvert_exporter": "python",
   "pygments_lexer": "ipython3",
   "version": "3.6.5"
  }
 },
 "nbformat": 4,
 "nbformat_minor": 2
}
