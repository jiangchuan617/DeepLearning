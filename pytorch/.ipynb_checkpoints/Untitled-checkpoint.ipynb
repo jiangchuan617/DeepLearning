{
 "cells": [
  {
   "cell_type": "code",
   "execution_count": 1,
   "metadata": {},
   "outputs": [
    {
     "data": {
      "text/plain": [
       "tensor([[ 0.,  1.,  2.],\n",
       "        [ 3.,  4.,  5.]])"
      ]
     },
     "execution_count": 1,
     "metadata": {},
     "output_type": "execute_result"
    }
   ],
   "source": [
    "import torch \n",
    "a = torch.arange(0,6)\n",
    "a.view(2,3)"
   ]
  },
  {
   "cell_type": "code",
   "execution_count": 2,
   "metadata": {},
   "outputs": [],
   "source": [
    "b = a.view(-1,3)"
   ]
  },
  {
   "cell_type": "code",
   "execution_count": 3,
   "metadata": {},
   "outputs": [
    {
     "data": {
      "text/plain": [
       "torch.Size([2, 1, 3])"
      ]
     },
     "execution_count": 3,
     "metadata": {},
     "output_type": "execute_result"
    }
   ],
   "source": [
    "# 不明白有什么用\n",
    "b.unsqueeze(1).size()"
   ]
  },
  {
   "cell_type": "code",
   "execution_count": 4,
   "metadata": {},
   "outputs": [
    {
     "data": {
      "text/plain": [
       "torch.Size([2, 1, 3])"
      ]
     },
     "execution_count": 4,
     "metadata": {},
     "output_type": "execute_result"
    }
   ],
   "source": [
    "b.unsqueeze(-2).size()"
   ]
  },
  {
   "cell_type": "code",
   "execution_count": 5,
   "metadata": {},
   "outputs": [
    {
     "name": "stdout",
     "output_type": "stream",
     "text": [
      "tensor([[ 0.6282, -0.2018, -0.0749,  0.3770],\n",
      "        [ 1.4723,  0.6232, -0.9976,  0.5319],\n",
      "        [-0.6578, -0.5965, -0.4678,  0.6883]])\n"
     ]
    },
    {
     "data": {
      "text/plain": [
       "tensor([ 1.4723])"
      ]
     },
     "execution_count": 5,
     "metadata": {},
     "output_type": "execute_result"
    }
   ],
   "source": [
    "a = torch.randn(3,4)\n",
    "print(a)\n",
    "a[a>1]"
   ]
  },
  {
   "cell_type": "code",
   "execution_count": 6,
   "metadata": {},
   "outputs": [
    {
     "data": {
      "text/plain": [
       "tensor([[ 0.6282, -0.2018, -0.0749,  0.3770],\n",
       "        [ 1.4723,  0.6232, -0.9976,  0.5319]])"
      ]
     },
     "execution_count": 6,
     "metadata": {},
     "output_type": "execute_result"
    }
   ],
   "source": [
    "a[torch.LongTensor([0,1])]"
   ]
  },
  {
   "cell_type": "code",
   "execution_count": 12,
   "metadata": {},
   "outputs": [
    {
     "name": "stdout",
     "output_type": "stream",
     "text": [
      "tensor([[ 0.7970,  0.1684, -0.1503,  0.4470,  1.4540],\n",
      "        [-1.0418,  0.8789, -0.2061,  1.0514, -1.9135],\n",
      "        [-0.5068, -0.8532, -0.8538, -0.0585,  1.0105],\n",
      "        [ 0.6111, -0.3653, -0.5761, -0.0598,  0.0929]])\n"
     ]
    },
    {
     "data": {
      "text/plain": [
       "tensor([ 0.5432, -0.2462, -0.2524, -0.0594])"
      ]
     },
     "execution_count": 12,
     "metadata": {},
     "output_type": "execute_result"
    }
   ],
   "source": [
    "a = torch.randn(4,5)\n",
    "print(a)\n",
    "torch.mean(a,1)"
   ]
  },
  {
   "cell_type": "code",
   "execution_count": 16,
   "metadata": {},
   "outputs": [
    {
     "data": {
      "text/plain": [
       "(tensor([-0.5068, -0.3653, -0.5761, -0.0585,  0.0929]),\n",
       " tensor([ 2,  3,  3,  2,  3]))"
      ]
     },
     "execution_count": 16,
     "metadata": {},
     "output_type": "execute_result"
    }
   ],
   "source": [
    "torch.median(a,0)"
   ]
  },
  {
   "cell_type": "code",
   "execution_count": 20,
   "metadata": {},
   "outputs": [
    {
     "name": "stdout",
     "output_type": "stream",
     "text": [
      "tensor([[ 0.7320, -1.0116,  0.1908],\n",
      "        [ 1.2622, -0.4524,  1.3088],\n",
      "        [ 0.8373,  0.5420,  0.0125],\n",
      "        [ 0.7570,  0.9295,  0.2243]])\n"
     ]
    },
    {
     "data": {
      "text/plain": [
       "tensor([ 1.2632,  1.8737,  0.9975,  1.2195])"
      ]
     },
     "execution_count": 20,
     "metadata": {},
     "output_type": "execute_result"
    }
   ],
   "source": [
    "a = torch.randn(4,3)\n",
    "print(a)\n",
    "torch.norm(a,2,1)"
   ]
  },
  {
   "cell_type": "code",
   "execution_count": null,
   "metadata": {},
   "outputs": [],
   "source": []
  }
 ],
 "metadata": {
  "kernelspec": {
   "display_name": "Python 3",
   "language": "python",
   "name": "python3"
  },
  "language_info": {
   "codemirror_mode": {
    "name": "ipython",
    "version": 3
   },
   "file_extension": ".py",
   "mimetype": "text/x-python",
   "name": "python",
   "nbconvert_exporter": "python",
   "pygments_lexer": "ipython3",
   "version": "3.6.5"
  }
 },
 "nbformat": 4,
 "nbformat_minor": 2
}
