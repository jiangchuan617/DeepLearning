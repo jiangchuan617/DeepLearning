{
 "cells": [
  {
   "cell_type": "code",
   "execution_count": 1,
   "metadata": {},
   "outputs": [],
   "source": [
    "from __future__ import print_function\n",
    "import torch"
   ]
  },
  {
   "cell_type": "code",
   "execution_count": 2,
   "metadata": {},
   "outputs": [
    {
     "name": "stdout",
     "output_type": "stream",
     "text": [
      "torch.Size([5, 3])\n"
     ]
    }
   ],
   "source": [
    "# 创建5*3矩阵 无初始化\n",
    "x = torch.empty(5, 3)\n",
    "# Construct a matrix filled zeros and of dtype long:\n",
    "x = torch.zeros(5,3,dtype = torch.long)\n",
    "# Construct a tensor directly from data:\n",
    "x = torch.tensor([5.5,3])\n",
    "\n",
    "# new_* methods take in sizes\n",
    "x = x.new_ones(5, 3, dtype=torch.double)\n",
    "# override dtype! result has the same size\n",
    "x = torch.randn_like(x, dtype=torch.float)\n",
    "# Get its size: 输出为元组（[5，3])\n",
    "print(x.size())"
   ]
  },
  {
   "cell_type": "code",
   "execution_count": 4,
   "metadata": {},
   "outputs": [],
   "source": [
    "# operation"
   ]
  },
  {
   "cell_type": "code",
   "execution_count": 5,
   "metadata": {},
   "outputs": [
    {
     "name": "stdout",
     "output_type": "stream",
     "text": [
      "tensor([ 1.0293, -1.0297, -0.1682,  1.7137, -1.6072])\n"
     ]
    }
   ],
   "source": [
    "# index\n",
    "print(x[:, 1])"
   ]
  },
  {
   "cell_type": "code",
   "execution_count": 6,
   "metadata": {},
   "outputs": [
    {
     "name": "stdout",
     "output_type": "stream",
     "text": [
      "tensor([[-1.1005,  1.4233,  0.1836],\n",
      "        [-0.7311, -0.1118, -0.2775],\n",
      "        [ 0.9153,  0.1554,  1.1164],\n",
      "        [ 0.1111,  2.3172,  0.3252],\n",
      "        [ 0.1114, -0.9509, -1.7234]])\n",
      "tensor([[-1.1005,  1.4233,  0.1836],\n",
      "        [-0.7311, -0.1118, -0.2775],\n",
      "        [ 0.9153,  0.1554,  1.1164],\n",
      "        [ 0.1111,  2.3172,  0.3252],\n",
      "        [ 0.1114, -0.9509, -1.7234]])\n",
      "tensor([[-1.1005,  1.4233,  0.1836],\n",
      "        [-0.7311, -0.1118, -0.2775],\n",
      "        [ 0.9153,  0.1554,  1.1164],\n",
      "        [ 0.1111,  2.3172,  0.3252],\n",
      "        [ 0.1114, -0.9509, -1.7234]])\n",
      "tensor([[-1.1005,  1.4233,  0.1836],\n",
      "        [-0.7311, -0.1118, -0.2775],\n",
      "        [ 0.9153,  0.1554,  1.1164],\n",
      "        [ 0.1111,  2.3172,  0.3252],\n",
      "        [ 0.1114, -0.9509, -1.7234]])\n"
     ]
    }
   ],
   "source": [
    "# add\n",
    "y = torch.rand(5,3)\n",
    "print(x+y) # 等效\n",
    "print(torch.add(x, y)) # 等效\n",
    "result = torch.empty(5, 3) # 等效\n",
    "torch.add(x, y, out=result)\n",
    "print(result)\n",
    "y.add_(x) # adds x to y\n",
    "print(y)\n"
   ]
  },
  {
   "cell_type": "code",
   "execution_count": 9,
   "metadata": {},
   "outputs": [
    {
     "name": "stdout",
     "output_type": "stream",
     "text": [
      "torch.Size([4, 4]) torch.Size([16]) torch.Size([2, 8])\n"
     ]
    }
   ],
   "source": [
    "x = torch.randn(4, 4)\n",
    "y = x.view(16)\n",
    "z = x.view(-1, 8)  # the size -1 is inferred from other dimensions\n",
    "print(x.size(), y.size(), z.size())"
   ]
  },
  {
   "cell_type": "code",
   "execution_count": 11,
   "metadata": {},
   "outputs": [
    {
     "name": "stdout",
     "output_type": "stream",
     "text": [
      "tensor([ 0.3763])\n",
      "0.37628257274627686\n"
     ]
    }
   ],
   "source": [
    "x = torch.rand(1)\n",
    "print(x)\n",
    "print(x.item())"
   ]
  },
  {
   "cell_type": "code",
   "execution_count": 12,
   "metadata": {},
   "outputs": [],
   "source": [
    "# NumPy Bridge"
   ]
  },
  {
   "cell_type": "code",
   "execution_count": 18,
   "metadata": {},
   "outputs": [
    {
     "name": "stdout",
     "output_type": "stream",
     "text": [
      "tensor([ 1.,  1.,  1.,  1.,  1.])\n",
      "[1. 1. 1. 1. 1.]\n"
     ]
    }
   ],
   "source": [
    "# Converting a Torch Tensor to a NumPy Array\n",
    "a = torch.ones(5)\n",
    "print(a)\n",
    "b = a.numpy()\n",
    "print(b)"
   ]
  },
  {
   "cell_type": "code",
   "execution_count": 19,
   "metadata": {},
   "outputs": [
    {
     "name": "stdout",
     "output_type": "stream",
     "text": [
      "tensor([ 2.,  2.,  2.,  2.,  2.])\n",
      "[2. 2. 2. 2. 2.]\n",
      "tensor([ 3.,  3.,  3.,  3.,  3.])\n",
      "[2. 2. 2. 2. 2.]\n"
     ]
    }
   ],
   "source": [
    "a.add_(1)\n",
    "print(a)\n",
    "print(b)\n",
    "a = a+1\n",
    "print(a)\n",
    "print(b)"
   ]
  },
  {
   "cell_type": "code",
   "execution_count": 20,
   "metadata": {},
   "outputs": [
    {
     "name": "stdout",
     "output_type": "stream",
     "text": [
      "[2. 2. 2. 2. 2.]\n",
      "tensor([ 2.,  2.,  2.,  2.,  2.], dtype=torch.float64)\n"
     ]
    }
   ],
   "source": [
    "# convert numpy array to torch tensor\n",
    "import numpy as np\n",
    "a = np.ones(5)\n",
    "b = torch.from_numpy(a)\n",
    "np.add(a,1,out = a)\n",
    "print(a)\n",
    "print(b)"
   ]
  },
  {
   "cell_type": "code",
   "execution_count": null,
   "metadata": {},
   "outputs": [],
   "source": []
  }
 ],
 "metadata": {
  "kernelspec": {
   "display_name": "Python 3",
   "language": "python",
   "name": "python3"
  },
  "language_info": {
   "codemirror_mode": {
    "name": "ipython",
    "version": 3
   },
   "file_extension": ".py",
   "mimetype": "text/x-python",
   "name": "python",
   "nbconvert_exporter": "python",
   "pygments_lexer": "ipython3",
   "version": "3.6.5"
  }
 },
 "nbformat": 4,
 "nbformat_minor": 2
}
