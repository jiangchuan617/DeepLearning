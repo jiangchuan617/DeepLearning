{
 "cells": [
  {
   "cell_type": "code",
   "execution_count": 48,
   "metadata": {},
   "outputs": [
    {
     "name": "stdout",
     "output_type": "stream",
     "text": [
      "tensor([[ 1.,  1.],\n",
      "        [ 1.,  1.]])\n"
     ]
    }
   ],
   "source": [
    "# autograd\n",
    "import torch as t\n",
    "# create a tensor and set requires_grad = True\n",
    "x = torch.ones(2,2,requires_grad = True)\n",
    "print(x)"
   ]
  },
  {
   "cell_type": "code",
   "execution_count": 16,
   "metadata": {},
   "outputs": [
    {
     "name": "stdout",
     "output_type": "stream",
     "text": [
      "tensor([[ 3.,  3.],\n",
      "        [ 3.,  3.]])\n",
      "<AddBackward0 object at 0x10a975940>\n"
     ]
    }
   ],
   "source": [
    "y = x+2\n",
    "print(y)\n",
    "print(y.grad_fn)"
   ]
  },
  {
   "cell_type": "code",
   "execution_count": 17,
   "metadata": {},
   "outputs": [
    {
     "name": "stdout",
     "output_type": "stream",
     "text": [
      "tensor([[ 27.,  27.],\n",
      "        [ 27.,  27.]]) tensor(27.)\n"
     ]
    }
   ],
   "source": [
    "z = y*y*3\n",
    "out = z.mean()\n",
    "print(z,out)"
   ]
  },
  {
   "cell_type": "code",
   "execution_count": 18,
   "metadata": {},
   "outputs": [
    {
     "name": "stdout",
     "output_type": "stream",
     "text": [
      "False\n",
      "True\n",
      "<SumBackward0 object at 0x10c1562b0>\n"
     ]
    }
   ],
   "source": [
    "a = torch.randn(2,2)\n",
    "a = ((a*3)/(a-1))\n",
    "print(a.requires_grad)\n",
    "a.requires_grad_(True)\n",
    "print(a.requires_grad)\n",
    "b = (a*a).sum()\n",
    "print(b.grad_fn)"
   ]
  },
  {
   "cell_type": "code",
   "execution_count": 19,
   "metadata": {},
   "outputs": [
    {
     "name": "stdout",
     "output_type": "stream",
     "text": [
      "tensor([[ 4.5000,  4.5000],\n",
      "        [ 4.5000,  4.5000]])\n"
     ]
    }
   ],
   "source": [
    "# Gradients\n",
    "out.backward()\n",
    "print(x.grad)"
   ]
  },
  {
   "cell_type": "code",
   "execution_count": 57,
   "metadata": {},
   "outputs": [
    {
     "name": "stdout",
     "output_type": "stream",
     "text": [
      "tensor([ 0.2276, -0.8109, -0.4417])\n",
      "第1次循环\n",
      "tensor([ 0.4551, -1.6219, -0.8833])\n",
      "tensor(1.9021)\n",
      "第2次循环\n",
      "tensor([ 0.9103, -3.2437, -1.7666])\n",
      "tensor(3.8041)\n",
      "第3次循环\n",
      "tensor([ 1.8205, -6.4875, -3.5332])\n",
      "tensor(7.6082)\n",
      "第4次循环\n",
      "tensor([  3.6411, -12.9749,  -7.0664])\n",
      "tensor(15.2164)\n",
      "第5次循环\n",
      "tensor([  7.2821, -25.9498, -14.1328])\n",
      "tensor(30.4329)\n",
      "第6次循环\n",
      "tensor([ 14.5642, -51.8997, -28.2656])\n",
      "tensor(60.8657)\n",
      "第7次循环\n",
      "tensor([  29.1285, -103.7994,  -56.5312])\n",
      "tensor(121.7315)\n",
      "第8次循环\n",
      "tensor([  58.2570, -207.5987, -113.0624])\n",
      "tensor(243.4630)\n",
      "第9次循环\n",
      "tensor([ 116.5140, -415.1974, -226.1249])\n",
      "tensor(486.9260)\n",
      "第10次循环\n",
      "tensor([ 233.0279, -830.3949, -452.2498])\n",
      "tensor(973.8519)\n",
      "tensor([  466.0558, -1660.7898,  -904.4995])\n"
     ]
    }
   ],
   "source": [
    "x = torch.randn(3,requires_grad=True)\n",
    "print(x)\n",
    "y = x*2\n",
    "i = 1\n",
    "# y.data.norm() 二范数\n",
    "while y.data.norm()<1000:\n",
    "    print(\"第%d次循环\" % i)\n",
    "    print(y)\n",
    "    \n",
    "    print(y.data.norm())\n",
    "    i += 1\n",
    "    y = y*2\n",
    "    \n",
    "print(y)"
   ]
  },
  {
   "cell_type": "code",
   "execution_count": 23,
   "metadata": {},
   "outputs": [],
   "source": [
    "from torch.autograd import Variable\n"
   ]
  },
  {
   "cell_type": "code",
   "execution_count": 49,
   "metadata": {},
   "outputs": [
    {
     "data": {
      "text/plain": [
       "tensor([[ 1.,  1.],\n",
       "        [ 1.,  1.]])"
      ]
     },
     "execution_count": 49,
     "metadata": {},
     "output_type": "execute_result"
    }
   ],
   "source": [
    "# 使tensor新建一个Variable\n",
    "x = Variable(t.ones(2,2),requires_grad=True)\n",
    "x"
   ]
  },
  {
   "cell_type": "code",
   "execution_count": 37,
   "metadata": {},
   "outputs": [
    {
     "name": "stdout",
     "output_type": "stream",
     "text": [
      "tensor(4.)\n",
      "<SumBackward0 object at 0x10c250cf8>\n"
     ]
    }
   ],
   "source": [
    "y = x.sum()\n",
    "print(y)\n",
    "print(y.grad_fn)"
   ]
  },
  {
   "cell_type": "code",
   "execution_count": 40,
   "metadata": {},
   "outputs": [
    {
     "name": "stdout",
     "output_type": "stream",
     "text": [
      "tensor([[ 1.,  1.],\n",
      "        [ 1.,  1.]])\n"
     ]
    },
    {
     "data": {
      "text/plain": [
       "tensor([[ 0.,  0.],\n",
       "        [ 0.,  0.]])"
      ]
     },
     "execution_count": 40,
     "metadata": {},
     "output_type": "execute_result"
    }
   ],
   "source": [
    "# 反向传播计算梯度\n",
    "y.backward()\n",
    "print(x.grad)\n",
    "# 梯度累计，每次求梯度之前都需要清除\n",
    "x.grad.data.zero_()"
   ]
  },
  {
   "cell_type": "code",
   "execution_count": 54,
   "metadata": {},
   "outputs": [
    {
     "name": "stdout",
     "output_type": "stream",
     "text": [
      "tensor([[ 0.5403,  0.5403,  0.5403,  0.5403,  0.5403],\n",
      "        [ 0.5403,  0.5403,  0.5403,  0.5403,  0.5403],\n",
      "        [ 0.5403,  0.5403,  0.5403,  0.5403,  0.5403],\n",
      "        [ 0.5403,  0.5403,  0.5403,  0.5403,  0.5403]])\n"
     ]
    },
    {
     "data": {
      "text/plain": [
       "tensor([[ 0.5403,  0.5403,  0.5403,  0.5403,  0.5403],\n",
       "        [ 0.5403,  0.5403,  0.5403,  0.5403,  0.5403],\n",
       "        [ 0.5403,  0.5403,  0.5403,  0.5403,  0.5403],\n",
       "        [ 0.5403,  0.5403,  0.5403,  0.5403,  0.5403]])"
      ]
     },
     "execution_count": 54,
     "metadata": {},
     "output_type": "execute_result"
    }
   ],
   "source": [
    "import torch as t\n",
    "x = Variable(t.ones(4,5))\n",
    "y = t.cos(x)\n",
    "x_tensor_cos = t.cos(x.data)\n",
    "print(y)\n",
    "x_tensor_cos"
   ]
  },
  {
   "cell_type": "code",
   "execution_count": null,
   "metadata": {},
   "outputs": [],
   "source": []
  }
 ],
 "metadata": {
  "kernelspec": {
   "display_name": "Python 3",
   "language": "python",
   "name": "python3"
  },
  "language_info": {
   "codemirror_mode": {
    "name": "ipython",
    "version": 3
   },
   "file_extension": ".py",
   "mimetype": "text/x-python",
   "name": "python",
   "nbconvert_exporter": "python",
   "pygments_lexer": "ipython3",
   "version": "3.6.5"
  }
 },
 "nbformat": 4,
 "nbformat_minor": 2
}
